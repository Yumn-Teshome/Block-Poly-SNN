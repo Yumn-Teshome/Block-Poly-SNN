{
 "cells": [
  {
   "cell_type": "code",
   "execution_count": 23,
   "id": "4f98b4c3",
   "metadata": {},
   "outputs": [
    {
     "name": "stdout",
     "output_type": "stream",
     "text": [
      "The autoreload extension is already loaded. To reload it, use:\n",
      "  %reload_ext autoreload\n"
     ]
    }
   ],
   "source": [
    "import os\n",
    "from pathlib import Path\n",
    "\n",
    "import torch\n",
    "import numpy as np\n",
    "import brainbox\n",
    "from brainbox import trainer as bb_trainer\n",
    "\n",
    "from block import datasets, trainer\n",
    "from block.models import CIFAR10Model\n",
    "from block.datasets.transforms import Normalize, ToClip, List\n",
    "\n",
    "%load_ext autoreload\n",
    "%autoreload 2"
   ]
  },
  {
   "cell_type": "code",
   "execution_count": 24,
   "id": "ef3b94b8",
   "metadata": {},
   "outputs": [],
   "source": [
    "path = Path(os.path.abspath(\"\")).parent"
   ]
  },
  {
   "cell_type": "markdown",
   "id": "f50f28b5",
   "metadata": {},
   "source": [
    "We ran training with the following paremeters:\n",
    "\n",
    "python train.py --method=fast_naive --t_len=4 --beta_requires_grad=False --readout_max=False --single_spike=True --gamma=0.1 --dataset=cifar10 --load_spatial_dims=True --use_augmentation=True --epoch=140 --batch=128 --lr=0.001 --track_activity=False\""
   ]
  },
  {
   "cell_type": "markdown",
   "id": "88c9bbbd",
   "metadata": {},
   "source": [
    "## Load dataset"
   ]
  },
  {
   "cell_type": "code",
   "execution_count": 15,
   "id": "20ff2bb6",
   "metadata": {},
   "outputs": [
    {
     "name": "stdout",
     "output_type": "stream",
     "text": [
      "Files already downloaded and verified\n",
      "Files already downloaded and verified\n"
     ]
    }
   ],
   "source": [
    "t_len = 4\n",
    "\n",
    "train_transform = List.get_cifar10_transform(t_len, use_augmentation=True)\n",
    "test_transform = brainbox.datasets.transforms.Compose(\n",
    "    [\n",
    "        Normalize((0.4914, 0.4822, 0.4465), (0.2023, 0.1994, 0.2010)),\n",
    "        ToClip(t_len)\n",
    "        \n",
    "    ]\n",
    ")\n",
    "dataset = datasets.CIFAR10Dataset(os.path.join(path, \"data\"), t_len=4, transform=train_transform)\n",
    "test_dataset = datasets.CIFAR10Dataset(os.path.join(path, \"data\"),  train=False, t_len=4, transform=test_transform)"
   ]
  },
  {
   "cell_type": "markdown",
   "id": "1d104907",
   "metadata": {},
   "source": [
    "## Load model"
   ]
  },
  {
   "cell_type": "code",
   "execution_count": 25,
   "id": "2e9ab552",
   "metadata": {},
   "outputs": [],
   "source": [
    "model_path = f\"{path}/results/datasets/cifar10\"\n",
    "model_id = \"7a223732d8f147a4a5c23167c56586e0\"\n",
    "device = \"cuda\"\n",
    "dtype = torch.float\n",
    "model = trainer.Trainer.load_model(model_path, model_id, device, dtype)"
   ]
  },
  {
   "cell_type": "code",
   "execution_count": 26,
   "id": "9dd1c3ce",
   "metadata": {},
   "outputs": [],
   "source": [
    "def accuracy_metric(output, target):\n",
    "    _, predictions = torch.max(output, 1)\n",
    "    return (predictions == target).sum().cpu().item()"
   ]
  },
  {
   "cell_type": "code",
   "execution_count": 27,
   "id": "943c9837",
   "metadata": {},
   "outputs": [
    {
     "name": "stdout",
     "output_type": "stream",
     "text": [
      "Train acc 0.88822\n"
     ]
    }
   ],
   "source": [
    "scores = bb_trainer.compute_metric(model, dataset, accuracy_metric, batch_size=128)\n",
    "print(f\"Train acc {np.sum(scores)/len(dataset)}\")"
   ]
  },
  {
   "cell_type": "code",
   "execution_count": 28,
   "id": "ad31968f",
   "metadata": {},
   "outputs": [
    {
     "name": "stdout",
     "output_type": "stream",
     "text": [
      "Test acc 0.8214\n"
     ]
    }
   ],
   "source": [
    "scores = bb_trainer.compute_metric(model, test_dataset, accuracy_metric, batch_size=128)\n",
    "print(f\"Test acc {np.sum(scores)/len(test_dataset)}\")"
   ]
  }
 ],
 "metadata": {
  "kernelspec": {
   "display_name": "Python [conda env:block] *",
   "language": "python",
   "name": "conda-env-block-py"
  },
  "language_info": {
   "codemirror_mode": {
    "name": "ipython",
    "version": 3
   },
   "file_extension": ".py",
   "mimetype": "text/x-python",
   "name": "python",
   "nbconvert_exporter": "python",
   "pygments_lexer": "ipython3",
   "version": "3.8.13"
  }
 },
 "nbformat": 4,
 "nbformat_minor": 5
}
